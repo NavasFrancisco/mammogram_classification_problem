{
 "cells": [
  {
   "cell_type": "markdown",
   "metadata": {},
   "source": [
    "#  Project\n",
    "\n",
    "## Predict whether a mammogram mass is benign or malignant\n",
    "\n",
    "We'll be using the \"mammographic masses\" public dataset from the UCI repository (source: https://archive.ics.uci.edu/ml/datasets/Mammographic+Mass)\n",
    "\n",
    "This data contains 961 instances of masses detected in mammograms, and contains the following attributes:\n",
    "\n",
    "\n",
    "   1. BI-RADS assessment: 1 to 5 (ordinal)  \n",
    "   2. Age: patient's age in years (integer)\n",
    "   3. Shape: mass shape: round=1 oval=2 lobular=3 irregular=4 (nominal)\n",
    "   4. Margin: mass margin: circumscribed=1 microlobulated=2 obscured=3 ill-defined=4 spiculated=5 (nominal)\n",
    "   5. Density: mass density high=1 iso=2 low=3 fat-containing=4 (ordinal)\n",
    "   6. Severity: benign=0 or malignant=1 (binominal)\n",
    "   \n",
    "BI-RADS is an assesment of how confident the severity classification is; it is not a \"predictive\" attribute and so we will discard it. The age, shape, margin, and density attributes are the features that we will build our model with, and \"severity\" is the classification we will attempt to predict based on those attributes.\n",
    "\n",
    "## Your assignment\n",
    "\n",
    "Apply several different supervised machine learning techniques to this data set, and see which one yields the highest accuracy. Apply:\n",
    "\n",
    "* Decision tree\n",
    "* Random forest\n",
    "* KNN\n",
    "* Logistic Regression\n",
    "* XGBoost Classifier\n",
    "* SVM\n",
    "* Bagging Classifier\n",
    "* AdaBoost Classifer\n",
    "\n",
    "The main idea behind this exercise is to get a general methodology (this could be easily used in other classification problems) to choose the best classifier once the data is cleaned and ready to use.\n"
   ]
  },
  {
   "cell_type": "code",
   "execution_count": 28,
   "metadata": {},
   "outputs": [],
   "source": [
    "# Let's include general porpuses libraries \n",
    "\n",
    "import pandas as pd\n",
    "import numpy as np                     # For mathematical calculations\n",
    "import seaborn as sns                  # For data visualization\n",
    "import matplotlib.pyplot as plt        # For plotting graphs\n",
    "%matplotlib inline"
   ]
  },
  {
   "cell_type": "markdown",
   "metadata": {},
   "source": [
    "## Let's begin: prepare the data\n",
    "\n",
    "Start by importing the mammographic_masses.data.txt file into a Pandas dataframe (hint: use read_csv) and take a look at it. We use the optional paramaters in read_csv to convert missing data (indicated by a ?) into NaN."
   ]
  },
  {
   "cell_type": "code",
   "execution_count": 29,
   "metadata": {},
   "outputs": [
    {
     "data": {
      "text/html": [
       "<div>\n",
       "<style scoped>\n",
       "    .dataframe tbody tr th:only-of-type {\n",
       "        vertical-align: middle;\n",
       "    }\n",
       "\n",
       "    .dataframe tbody tr th {\n",
       "        vertical-align: top;\n",
       "    }\n",
       "\n",
       "    .dataframe thead th {\n",
       "        text-align: right;\n",
       "    }\n",
       "</style>\n",
       "<table border=\"1\" class=\"dataframe\">\n",
       "  <thead>\n",
       "    <tr style=\"text-align: right;\">\n",
       "      <th></th>\n",
       "      <th>BI_RADS</th>\n",
       "      <th>age</th>\n",
       "      <th>shape</th>\n",
       "      <th>margin</th>\n",
       "      <th>density</th>\n",
       "      <th>severity</th>\n",
       "    </tr>\n",
       "  </thead>\n",
       "  <tbody>\n",
       "    <tr>\n",
       "      <th>0</th>\n",
       "      <td>5.0</td>\n",
       "      <td>67.0</td>\n",
       "      <td>3.0</td>\n",
       "      <td>5.0</td>\n",
       "      <td>3.0</td>\n",
       "      <td>1</td>\n",
       "    </tr>\n",
       "    <tr>\n",
       "      <th>1</th>\n",
       "      <td>4.0</td>\n",
       "      <td>43.0</td>\n",
       "      <td>1.0</td>\n",
       "      <td>1.0</td>\n",
       "      <td>NaN</td>\n",
       "      <td>1</td>\n",
       "    </tr>\n",
       "    <tr>\n",
       "      <th>2</th>\n",
       "      <td>5.0</td>\n",
       "      <td>58.0</td>\n",
       "      <td>4.0</td>\n",
       "      <td>5.0</td>\n",
       "      <td>3.0</td>\n",
       "      <td>1</td>\n",
       "    </tr>\n",
       "    <tr>\n",
       "      <th>3</th>\n",
       "      <td>4.0</td>\n",
       "      <td>28.0</td>\n",
       "      <td>1.0</td>\n",
       "      <td>1.0</td>\n",
       "      <td>3.0</td>\n",
       "      <td>0</td>\n",
       "    </tr>\n",
       "    <tr>\n",
       "      <th>4</th>\n",
       "      <td>5.0</td>\n",
       "      <td>74.0</td>\n",
       "      <td>1.0</td>\n",
       "      <td>5.0</td>\n",
       "      <td>NaN</td>\n",
       "      <td>1</td>\n",
       "    </tr>\n",
       "  </tbody>\n",
       "</table>\n",
       "</div>"
      ],
      "text/plain": [
       "   BI_RADS   age  shape  margin  density  severity\n",
       "0      5.0  67.0    3.0     5.0      3.0         1\n",
       "1      4.0  43.0    1.0     1.0      NaN         1\n",
       "2      5.0  58.0    4.0     5.0      3.0         1\n",
       "3      4.0  28.0    1.0     1.0      3.0         0\n",
       "4      5.0  74.0    1.0     5.0      NaN         1"
      ]
     },
     "execution_count": 29,
     "metadata": {},
     "output_type": "execute_result"
    }
   ],
   "source": [
    "df = pd.read_csv('mammographic_masses.data.txt', sep=\",\", header=None, na_values ='?') \n",
    "df.columns = ['BI_RADS', 'age', 'shape', 'margin', 'density', 'severity']\n",
    "df.head()"
   ]
  },
  {
   "cell_type": "code",
   "execution_count": 30,
   "metadata": {},
   "outputs": [
    {
     "data": {
      "text/plain": [
       "BI_RADS      2\n",
       "age          5\n",
       "shape       31\n",
       "margin      48\n",
       "density     76\n",
       "severity     0\n",
       "dtype: int64"
      ]
     },
     "execution_count": 30,
     "metadata": {},
     "output_type": "execute_result"
    }
   ],
   "source": [
    "df.isnull().sum()"
   ]
  },
  {
   "cell_type": "markdown",
   "metadata": {},
   "source": [
    "There are quite a few missing values in the data set. "
   ]
  },
  {
   "cell_type": "code",
   "execution_count": 31,
   "metadata": {},
   "outputs": [
    {
     "data": {
      "text/plain": [
       "BI_RADS     float64\n",
       "age         float64\n",
       "shape       float64\n",
       "margin      float64\n",
       "density     float64\n",
       "severity      int64\n",
       "dtype: object"
      ]
     },
     "execution_count": 31,
     "metadata": {},
     "output_type": "execute_result"
    }
   ],
   "source": [
    "df.dtypes"
   ]
  },
  {
   "cell_type": "markdown",
   "metadata": {},
   "source": [
    "Let's see if they are normaly distributed or not:"
   ]
  },
  {
   "cell_type": "markdown",
   "metadata": {},
   "source": [
    "Let's start with the age, as we are not using BI_RADS      "
   ]
  },
  {
   "cell_type": "code",
   "execution_count": 32,
   "metadata": {},
   "outputs": [
    {
     "name": "stderr",
     "output_type": "stream",
     "text": [
      "C:\\Users\\Francisco-Martin.NAV\\Anaconda3\\lib\\site-packages\\seaborn\\distributions.py:2551: FutureWarning: `distplot` is a deprecated function and will be removed in a future version. Please adapt your code to use either `displot` (a figure-level function with similar flexibility) or `histplot` (an axes-level function for histograms).\n",
      "  warnings.warn(msg, FutureWarning)\n"
     ]
    },
    {
     "data": {
      "image/png": "[encoded data removed]",
      "text/plain": [
       "<Figure size 1152x360 with 2 Axes>"
      ]
     },
     "metadata": {
      "needs_background": "light"
     },
     "output_type": "display_data"
    }
   ],
   "source": [
    "plt.figure(1)\n",
    "plt.subplot(121)\n",
    "sns.distplot(df['age']);\n",
    "\n",
    "plt.subplot(122)\n",
    "df['age'].plot.box(figsize=(16,5))\n",
    "plt.show()"
   ]
  },
  {
   "cell_type": "markdown",
   "metadata": {},
   "source": [
    "This follows a normal distribution, so missing values could be replaced by the mean."
   ]
  },
  {
   "cell_type": "markdown",
   "metadata": {},
   "source": [
    "The other features are categorical:"
   ]
  },
  {
   "cell_type": "code",
   "execution_count": 33,
   "metadata": {},
   "outputs": [
    {
     "name": "stderr",
     "output_type": "stream",
     "text": [
      "C:\\Users\\Francisco-Martin.NAV\\Anaconda3\\lib\\site-packages\\seaborn\\distributions.py:2551: FutureWarning: `distplot` is a deprecated function and will be removed in a future version. Please adapt your code to use either `displot` (a figure-level function with similar flexibility) or `histplot` (an axes-level function for histograms).\n",
      "  warnings.warn(msg, FutureWarning)\n"
     ]
    },
    {
     "data": {
      "image/png": "[encoded data removed]",
      "text/plain": [
       "<Figure size 1152x360 with 2 Axes>"
      ]
     },
     "metadata": {
      "needs_background": "light"
     },
     "output_type": "display_data"
    }
   ],
   "source": [
    "plt.figure(1)\n",
    "plt.subplot(121)\n",
    "sns.distplot(df['shape']);\n",
    "\n",
    "plt.subplot(122)\n",
    "df['shape'].plot.box(figsize=(16,5))\n",
    "plt.show()"
   ]
  },
  {
   "cell_type": "code",
   "execution_count": 34,
   "metadata": {},
   "outputs": [
    {
     "data": {
      "text/plain": [
       "<AxesSubplot:title={'center':'shape'}>"
      ]
     },
     "execution_count": 34,
     "metadata": {},
     "output_type": "execute_result"
    },
    {
     "data": {
      "image/png": "[encoded data removed]",
      "text/plain": [
       "<Figure size 432x288 with 1 Axes>"
      ]
     },
     "metadata": {
      "needs_background": "light"
     },
     "output_type": "display_data"
    }
   ],
   "source": [
    "df['shape'].value_counts(normalize=True).plot.bar(title='shape')"
   ]
  },
  {
   "cell_type": "code",
   "execution_count": 35,
   "metadata": {},
   "outputs": [
    {
     "name": "stderr",
     "output_type": "stream",
     "text": [
      "C:\\Users\\Francisco-Martin.NAV\\Anaconda3\\lib\\site-packages\\seaborn\\distributions.py:2551: FutureWarning: `distplot` is a deprecated function and will be removed in a future version. Please adapt your code to use either `displot` (a figure-level function with similar flexibility) or `histplot` (an axes-level function for histograms).\n",
      "  warnings.warn(msg, FutureWarning)\n"
     ]
    },
    {
     "data": {
      "image/png": "[encoded data removed]",
      "text/plain": [
       "<Figure size 1152x360 with 2 Axes>"
      ]
     },
     "metadata": {
      "needs_background": "light"
     },
     "output_type": "display_data"
    }
   ],
   "source": [
    "plt.figure(1)\n",
    "plt.subplot(121)\n",
    "sns.distplot(df['margin']);\n",
    "\n",
    "plt.subplot(122)\n",
    "df['margin'].plot.box(figsize=(16,5))\n",
    "plt.show()"
   ]
  },
  {
   "cell_type": "code",
   "execution_count": 36,
   "metadata": {},
   "outputs": [
    {
     "data": {
      "text/plain": [
       "<AxesSubplot:title={'center':'margin'}>"
      ]
     },
     "execution_count": 36,
     "metadata": {},
     "output_type": "execute_result"
    },
    {
     "data": {
      "image/png": "[encoded data removed]",
      "text/plain": [
       "<Figure size 432x288 with 1 Axes>"
      ]
     },
     "metadata": {
      "needs_background": "light"
     },
     "output_type": "display_data"
    }
   ],
   "source": [
    "df['margin'].value_counts(normalize=True).plot.bar(title='margin')"
   ]
  },
  {
   "cell_type": "code",
   "execution_count": 37,
   "metadata": {},
   "outputs": [
    {
     "name": "stderr",
     "output_type": "stream",
     "text": [
      "C:\\Users\\Francisco-Martin.NAV\\Anaconda3\\lib\\site-packages\\seaborn\\distributions.py:2551: FutureWarning: `distplot` is a deprecated function and will be removed in a future version. Please adapt your code to use either `displot` (a figure-level function with similar flexibility) or `histplot` (an axes-level function for histograms).\n",
      "  warnings.warn(msg, FutureWarning)\n"
     ]
    },
    {
     "data": {
      "image/png": "[encoded data removed]",
      "text/plain": [
       "<Figure size 1152x360 with 2 Axes>"
      ]
     },
     "metadata": {
      "needs_background": "light"
     },
     "output_type": "display_data"
    }
   ],
   "source": [
    "plt.figure(1)\n",
    "plt.subplot(121)\n",
    "sns.distplot(df['density']);\n",
    "\n",
    "plt.subplot(122)\n",
    "df['density'].plot.box(figsize=(16,5))\n",
    "plt.show()"
   ]
  },
  {
   "cell_type": "code",
   "execution_count": 38,
   "metadata": {},
   "outputs": [
    {
     "data": {
      "text/plain": [
       "<AxesSubplot:title={'center':'density'}>"
      ]
     },
     "execution_count": 38,
     "metadata": {},
     "output_type": "execute_result"
    },
    {
     "data": {
      "image/png": "[encoded data removed]",
      "text/plain": [
       "<Figure size 432x288 with 1 Axes>"
      ]
     },
     "metadata": {
      "needs_background": "light"
     },
     "output_type": "display_data"
    }
   ],
   "source": [
    "df['density'].value_counts(normalize=True).plot.bar(title='density')"
   ]
  },
  {
   "cell_type": "markdown",
   "metadata": {},
   "source": [
    "All of them are categorical values, they could be replaced by the most frequent value. They could be also be dropped, as they represent only the 8% of the data."
   ]
  },
  {
   "cell_type": "code",
   "execution_count": 39,
   "metadata": {},
   "outputs": [],
   "source": [
    "### We do not use BI_RADS\n",
    "df = df.drop(['BI_RADS'], axis=1)\n",
    "\n",
    "## We remplace the age with the mean value\n",
    "df['age'].fillna(df['age'].mean(),inplace=True)\n",
    "\n",
    "## All the rest of categorical variables could be replaced by the most frequent\n",
    "##df['shape'].fillna(df['shape'].mode()[0],inplace=True)\n",
    "##df['margin'].fillna(df['margin'].mode()[0],inplace=True)\n",
    "##df['density'].fillna(df['density'].mode()[0],inplace=True)\n",
    "## Or drop, we do drop\n",
    "\n",
    "df=df.dropna()\n"
   ]
  },
  {
   "cell_type": "code",
   "execution_count": 40,
   "metadata": {},
   "outputs": [
    {
     "data": {
      "text/plain": [
       "age         0\n",
       "shape       0\n",
       "margin      0\n",
       "density     0\n",
       "severity    0\n",
       "dtype: int64"
      ]
     },
     "execution_count": 40,
     "metadata": {},
     "output_type": "execute_result"
    }
   ],
   "source": [
    "## lets verify if the data is clean\n",
    "df.isnull().sum()"
   ]
  },
  {
   "cell_type": "markdown",
   "metadata": {},
   "source": [
    "Once the data is clean, lets see if we have a balanced or unbalanced class."
   ]
  },
  {
   "cell_type": "code",
   "execution_count": 41,
   "metadata": {},
   "outputs": [
    {
     "data": {
      "text/plain": [
       "0    0.511962\n",
       "1    0.488038\n",
       "Name: severity, dtype: float64"
      ]
     },
     "execution_count": 41,
     "metadata": {},
     "output_type": "execute_result"
    }
   ],
   "source": [
    "df['severity'].value_counts(normalize=True)"
   ]
  },
  {
   "cell_type": "markdown",
   "metadata": {},
   "source": [
    "The class is more or less balanced."
   ]
  },
  {
   "cell_type": "markdown",
   "metadata": {
    "collapsed": true
   },
   "source": [
    "Next you'll need to convert the Pandas dataframes into numpy arrays that can be used by scikit_learn. We create the array with the features (X) and the one with the target (y)."
   ]
  },
  {
   "cell_type": "code",
   "execution_count": 42,
   "metadata": {},
   "outputs": [
    {
     "name": "stdout",
     "output_type": "stream",
     "text": [
      "The shape of the X  is: (836, 4)\n",
      "The shape of the y  is: (836, 1)\n"
     ]
    }
   ],
   "source": [
    "y = np.asarray(df[['severity']]).reshape(-1,1)\n",
    "X = np.asarray(df.drop(['severity'], axis=1))\n",
    "print('The shape of the X  is:', X.shape)\n",
    "print('The shape of the y  is:', y.shape)"
   ]
  },
  {
   "cell_type": "markdown",
   "metadata": {},
   "source": [
    "Some of our models require the input data to be normalized, so we normalize using an StandardScaler."
   ]
  },
  {
   "cell_type": "code",
   "execution_count": 43,
   "metadata": {},
   "outputs": [],
   "source": [
    "from sklearn.preprocessing import StandardScaler"
   ]
  },
  {
   "cell_type": "code",
   "execution_count": 44,
   "metadata": {},
   "outputs": [
    {
     "name": "stdout",
     "output_type": "stream",
     "text": [
      "[[ 0.76822175  0.16967941  1.39344372  0.2395519 ]\n",
      " [ 0.15224032  0.97565659  1.39344372  0.2395519 ]\n",
      " [-1.90103112 -1.44227495 -1.16400732  0.2395519 ]\n",
      " ...\n",
      " [ 0.5628946   0.97565659  1.39344372  0.2395519 ]\n",
      " [ 0.69977936  0.97565659  1.39344372  0.2395519 ]\n",
      " [ 0.42600984  0.16967941  0.1147182   0.2395519 ]]\n"
     ]
    }
   ],
   "source": [
    "sc = StandardScaler()\n",
    "X_tran = sc.fit_transform(X)\n",
    "print(X_tran)"
   ]
  },
  {
   "cell_type": "markdown",
   "metadata": {},
   "source": [
    "## Model selection"
   ]
  },
  {
   "cell_type": "markdown",
   "metadata": {},
   "source": [
    "Let's define a general function to evaluate model scoring no matter the model, the data, the scoring variables and the number of cross validation folds:"
   ]
  },
  {
   "cell_type": "code",
   "execution_count": 45,
   "metadata": {},
   "outputs": [],
   "source": [
    "from sklearn.model_selection import GridSearchCV\n",
    "\n",
    "def model_score(X_train, y_train, model, grid_values, scorers_list, cv):\n",
    "    \n",
    "    ## We define two dictionaries to save the resulting scores and resulting best estimator for scorers_list\n",
    "    clf_dict = {}\n",
    "    clf_model_dict = {}\n",
    "    \n",
    "    ## We iterate with the different scoring methods defined in scorers_list\n",
    "    for i, scorer in enumerate(scorers_list):\n",
    "        #  Create grid search object for the model with cross validation of cv, n_jobs=-1 to consume all availaible resources, and scoring=scorer\n",
    "        clf_eval = GridSearchCV(model, param_grid=grid_values, scoring=scorer, cv=cv, verbose=True, n_jobs=-1)\n",
    "        # Fit this model with the train data\n",
    "        clf_eval.fit(X_train,y_train)\n",
    "        # Print the best parameters together with the best score for each scorer\n",
    "        print('Grid best parameters for {0}: {1} scoring: {2}'\n",
    "              .format(scorer, clf_eval.best_params_, round(clf_eval.best_score_,3)))\n",
    "        # Save these values in a dictionary and return them, so they can be used in future processing\n",
    "        clf_dict[scorer] = clf_eval.best_score_\n",
    "        clf_model_dict[scorer] = clf_eval.best_estimator_\n",
    "    return clf_dict, clf_model_dict"
   ]
  },
  {
   "cell_type": "markdown",
   "metadata": {},
   "source": [
    "We define two different scoring methods: \n",
    "- accuracy\n",
    "- roc_auc\n",
    "  "
   ]
  },
  {
   "cell_type": "code",
   "execution_count": 46,
   "metadata": {},
   "outputs": [],
   "source": [
    "scorers_list = ['accuracy', 'roc_auc']\n",
    "## The following dictionaries will be populated with best_scores and best_estimators for each element in scorers_list and \n",
    "## model fitted with gridSearch\n",
    "dict_score_results = {}\n",
    "dict_best_models = {}"
   ]
  },
  {
   "cell_type": "markdown",
   "metadata": {},
   "source": [
    "Before moving to model estimation, let's start by creating a single train/test split of our data. Let's set 75% for training, and 25% for testing."
   ]
  },
  {
   "cell_type": "code",
   "execution_count": 47,
   "metadata": {},
   "outputs": [],
   "source": [
    "from sklearn.model_selection import train_test_split\n",
    "## A random seed is set to be able to compare results with other teams challenging the same problem\n",
    "np.random.seed = 1234\n",
    "## We stratify, so we have the same proportion of Severity: benign=0 or malignant=1\n",
    "X_train, X_test, y_train, y_test = train_test_split(X_tran, y, test_size = 0.25, stratify=y, random_state = 1)"
   ]
  },
  {
   "cell_type": "markdown",
   "metadata": {},
   "source": [
    "Now let's find the best models for X_train, y_train using our function model_score"
   ]
  },
  {
   "cell_type": "markdown",
   "metadata": {},
   "source": [
    "## Decision Trees"
   ]
  },
  {
   "cell_type": "code",
   "execution_count": 48,
   "metadata": {},
   "outputs": [
    {
     "name": "stdout",
     "output_type": "stream",
     "text": [
      "Fitting 10 folds for each of 13718 candidates, totalling 137180 fits\n"
     ]
    },
    {
     "name": "stderr",
     "output_type": "stream",
     "text": [
      "[Parallel(n_jobs=-1)]: Using backend LokyBackend with 12 concurrent workers.\n",
      "[Parallel(n_jobs=-1)]: Done  28 tasks      | elapsed:    0.0s\n",
      "[Parallel(n_jobs=-1)]: Done 3560 tasks      | elapsed:    1.3s\n",
      "[Parallel(n_jobs=-1)]: Done 19560 tasks      | elapsed:    5.9s\n",
      "[Parallel(n_jobs=-1)]: Done 41960 tasks      | elapsed:   12.0s\n",
      "[Parallel(n_jobs=-1)]: Done 70760 tasks      | elapsed:   20.5s\n",
      "[Parallel(n_jobs=-1)]: Done 105960 tasks      | elapsed:   30.8s\n",
      "[Parallel(n_jobs=-1)]: Done 137180 out of 137180 | elapsed:   41.0s finished\n"
     ]
    },
    {
     "name": "stdout",
     "output_type": "stream",
     "text": [
      "Grid best parameters for accuracy: {'criterion': 'gini', 'max_depth': 6, 'min_samples_leaf': 2, 'min_samples_split': 2} scoring: 0.823\n",
      "Fitting 10 folds for each of 13718 candidates, totalling 137180 fits\n"
     ]
    },
    {
     "name": "stderr",
     "output_type": "stream",
     "text": [
      "[Parallel(n_jobs=-1)]: Using backend LokyBackend with 12 concurrent workers.\n",
      "[Parallel(n_jobs=-1)]: Done  28 tasks      | elapsed:    0.0s\n",
      "[Parallel(n_jobs=-1)]: Done 3560 tasks      | elapsed:    1.8s\n",
      "[Parallel(n_jobs=-1)]: Done 19560 tasks      | elapsed:    8.2s\n",
      "[Parallel(n_jobs=-1)]: Done 41960 tasks      | elapsed:   17.6s\n",
      "[Parallel(n_jobs=-1)]: Done 70760 tasks      | elapsed:   29.3s\n",
      "[Parallel(n_jobs=-1)]: Done 105960 tasks      | elapsed:   42.6s\n",
      "[Parallel(n_jobs=-1)]: Done 137180 out of 137180 | elapsed:   54.8s finished\n"
     ]
    },
    {
     "name": "stdout",
     "output_type": "stream",
     "text": [
      "Grid best parameters for roc_auc: {'criterion': 'entropy', 'max_depth': 5, 'min_samples_leaf': 19, 'min_samples_split': 2} scoring: 0.869\n"
     ]
    }
   ],
   "source": [
    "from sklearn.tree import DecisionTreeClassifier\n",
    "\n",
    "model = DecisionTreeClassifier(random_state = 1)\n",
    "\n",
    "## We define the hiperparameters\n",
    "param_grid={\n",
    "\"criterion\":['gini','entropy'], ## Criteria to split between nodes\n",
    "\"max_depth\":range(1,20), ## Max depth of the tree\n",
    "\"min_samples_split\":range(1,20), ## Minimum number of samples to do a split\n",
    "\"min_samples_leaf\":range(1,20)} ## Minimum number of samples in a final node\n",
    "\n",
    "## We perform a cross validation with 10 folds using both accuracy and roc_auc with a DecisionTreeClassifier\n",
    "scoring_result_model, best_models_model = model_score(X_train, y_train, model, param_grid, scorers_list, 10)\n",
    "\n",
    "## We save this information in our dictionaries\n",
    "dict_score_results[model.__class__.__name__] = scoring_result_model\n",
    "dict_best_models[model.__class__.__name__] = best_models_model"
   ]
  },
  {
   "cell_type": "markdown",
   "metadata": {},
   "source": [
    "## Random Forest"
   ]
  },
  {
   "cell_type": "code",
   "execution_count": 49,
   "metadata": {},
   "outputs": [
    {
     "name": "stdout",
     "output_type": "stream",
     "text": [
      "Fitting 10 folds for each of 216 candidates, totalling 2160 fits\n"
     ]
    },
    {
     "name": "stderr",
     "output_type": "stream",
     "text": [
      "[Parallel(n_jobs=-1)]: Using backend LokyBackend with 12 concurrent workers.\n",
      "[Parallel(n_jobs=-1)]: Done  28 tasks      | elapsed:    0.5s\n",
      "[Parallel(n_jobs=-1)]: Done 236 tasks      | elapsed:    8.5s\n",
      "[Parallel(n_jobs=-1)]: Done 486 tasks      | elapsed:   18.6s\n",
      "[Parallel(n_jobs=-1)]: Done 836 tasks      | elapsed:   34.7s\n",
      "[Parallel(n_jobs=-1)]: Done 1286 tasks      | elapsed:   56.0s\n",
      "[Parallel(n_jobs=-1)]: Done 1836 tasks      | elapsed:  1.4min\n",
      "[Parallel(n_jobs=-1)]: Done 2160 out of 2160 | elapsed:  1.7min finished\n",
      "C:\\Users\\Francisco-Martin.NAV\\Anaconda3\\lib\\site-packages\\sklearn\\model_selection\\_search.py:765: DataConversionWarning: A column-vector y was passed when a 1d array was expected. Please change the shape of y to (n_samples,), for example using ravel().\n",
      "  self.best_estimator_.fit(X, y, **fit_params)\n"
     ]
    },
    {
     "name": "stdout",
     "output_type": "stream",
     "text": [
      "Grid best parameters for accuracy: {'class_weight': {1: 2}, 'max_depth': 7, 'max_features': 'auto', 'n_estimators': 200} scoring: 0.833\n",
      "Fitting 10 folds for each of 216 candidates, totalling 2160 fits\n"
     ]
    },
    {
     "name": "stderr",
     "output_type": "stream",
     "text": [
      "[Parallel(n_jobs=-1)]: Using backend LokyBackend with 12 concurrent workers.\n",
      "[Parallel(n_jobs=-1)]: Done  28 tasks      | elapsed:    0.8s\n",
      "[Parallel(n_jobs=-1)]: Done 224 tasks      | elapsed:   10.7s\n",
      "[Parallel(n_jobs=-1)]: Done 474 tasks      | elapsed:   22.5s\n",
      "[Parallel(n_jobs=-1)]: Done 824 tasks      | elapsed:   40.5s\n",
      "[Parallel(n_jobs=-1)]: Done 1274 tasks      | elapsed:  1.0min\n",
      "[Parallel(n_jobs=-1)]: Done 1824 tasks      | elapsed:  1.5min\n"
     ]
    },
    {
     "name": "stdout",
     "output_type": "stream",
     "text": [
      "Grid best parameters for roc_auc: {'class_weight': {1: 2}, 'max_depth': 4, 'max_features': 'auto', 'n_estimators': 20} scoring: 0.881\n"
     ]
    },
    {
     "name": "stderr",
     "output_type": "stream",
     "text": [
      "[Parallel(n_jobs=-1)]: Done 2160 out of 2160 | elapsed:  1.7min finished\n",
      "C:\\Users\\Francisco-Martin.NAV\\Anaconda3\\lib\\site-packages\\sklearn\\model_selection\\_search.py:765: DataConversionWarning: A column-vector y was passed when a 1d array was expected. Please change the shape of y to (n_samples,), for example using ravel().\n",
      "  self.best_estimator_.fit(X, y, **fit_params)\n"
     ]
    }
   ],
   "source": [
    "from sklearn.ensemble import RandomForestClassifier\n",
    "\n",
    "model=RandomForestClassifier(random_state=1, criterion= 'gini')\n",
    "\n",
    "## We define the hiperparameters\n",
    "param_grid = { \n",
    "    'n_estimators': [20, 50, 200, 500], ## Number of trees in the forest\n",
    "    'max_features': ['auto', 'sqrt', 'log2'],  ## The number of features to consider when looking for the best split, log2(n_features) or sqrt(n_features)\n",
    "    'max_depth' : [2,4,5,6,7,8], ## Max depth of the tree\n",
    "    'class_weight':[{1: w} for w in [1, 2, 4]] ## Weight of class 1 \n",
    "}\n",
    "\n",
    "## We perform a cross validation with 10 folds using both accuracy and roc_auc with a DecisionTreeClassifier\n",
    "scoring_result_model, best_models_model = model_score(X_train, y_train, model, param_grid, scorers_list, 10)\n",
    "\n",
    "## We save this information in our dictionaries\n",
    "dict_score_results[model.__class__.__name__] = scoring_result_model\n",
    "dict_best_models[model.__class__.__name__] = best_models_model"
   ]
  },
  {
   "cell_type": "markdown",
   "metadata": {},
   "source": [
    "## KNN"
   ]
  },
  {
   "cell_type": "code",
   "execution_count": 50,
   "metadata": {},
   "outputs": [
    {
     "name": "stdout",
     "output_type": "stream",
     "text": [
      "Fitting 10 folds for each of 40 candidates, totalling 400 fits\n"
     ]
    },
    {
     "name": "stderr",
     "output_type": "stream",
     "text": [
      "[Parallel(n_jobs=-1)]: Using backend LokyBackend with 12 concurrent workers.\n",
      "[Parallel(n_jobs=-1)]: Done  28 tasks      | elapsed:    0.0s\n",
      "[Parallel(n_jobs=-1)]: Done 400 out of 400 | elapsed:    0.2s finished\n",
      "C:\\Users\\Francisco-Martin.NAV\\Anaconda3\\lib\\site-packages\\sklearn\\model_selection\\_search.py:765: DataConversionWarning: A column-vector y was passed when a 1d array was expected. Please change the shape of y to (n_samples, ), for example using ravel().\n",
      "  self.best_estimator_.fit(X, y, **fit_params)\n",
      "[Parallel(n_jobs=-1)]: Using backend LokyBackend with 12 concurrent workers.\n",
      "[Parallel(n_jobs=-1)]: Done  28 tasks      | elapsed:    0.0s\n"
     ]
    },
    {
     "name": "stdout",
     "output_type": "stream",
     "text": [
      "Grid best parameters for accuracy: {'metric': 'manhattan', 'n_neighbors': 50, 'weights': 'uniform'} scoring: 0.82\n",
      "Fitting 10 folds for each of 40 candidates, totalling 400 fits\n",
      "Grid best parameters for roc_auc: {'metric': 'manhattan', 'n_neighbors': 50, 'weights': 'uniform'} scoring: 0.882\n"
     ]
    },
    {
     "name": "stderr",
     "output_type": "stream",
     "text": [
      "[Parallel(n_jobs=-1)]: Done 400 out of 400 | elapsed:    0.2s finished\n",
      "C:\\Users\\Francisco-Martin.NAV\\Anaconda3\\lib\\site-packages\\sklearn\\model_selection\\_search.py:765: DataConversionWarning: A column-vector y was passed when a 1d array was expected. Please change the shape of y to (n_samples, ), for example using ravel().\n",
      "  self.best_estimator_.fit(X, y, **fit_params)\n"
     ]
    }
   ],
   "source": [
    "from sklearn.neighbors import KNeighborsClassifier\n",
    "\n",
    "model = KNeighborsClassifier()\n",
    "\n",
    "## Define the hyperparametes\n",
    "param_grid = {'n_neighbors': [3, 5, 7, 9, 11, 20, 30, 50, 100, 200],  # number of neighbors, usually odd numbers\n",
    "             'weights': ['uniform', 'distance'], ## All points in the n_neighborhood are weighted equally (uniform) or based in distance  \n",
    "             'metric': ['euclidean', 'manhattan']} ## We use euclidean or manhattan distance\n",
    "\n",
    "## We perform a cross validation with 10 folds using both accuracy and roc_auc with a DecisionTreeClassifier\n",
    "scoring_result_model, best_models_model = model_score(X_train, y_train, model, param_grid, scorers_list, 10)\n",
    "\n",
    "## We save this information in our dictionaries\n",
    "dict_score_results[model.__class__.__name__] = scoring_result_model\n",
    "dict_best_models[model.__class__.__name__] = best_models_model"
   ]
  },
  {
   "cell_type": "markdown",
   "metadata": {},
   "source": [
    "## Logistic Regression"
   ]
  },
  {
   "cell_type": "code",
   "execution_count": 51,
   "metadata": {},
   "outputs": [
    {
     "name": "stdout",
     "output_type": "stream",
     "text": [
      "Fitting 10 folds for each of 42 candidates, totalling 420 fits\n"
     ]
    },
    {
     "name": "stderr",
     "output_type": "stream",
     "text": [
      "[Parallel(n_jobs=-1)]: Using backend LokyBackend with 12 concurrent workers.\n",
      "[Parallel(n_jobs=-1)]: Done  28 tasks      | elapsed:    0.0s\n",
      "[Parallel(n_jobs=-1)]: Done 420 out of 420 | elapsed:    0.2s finished\n",
      "C:\\Users\\Francisco-Martin.NAV\\Anaconda3\\lib\\site-packages\\sklearn\\utils\\validation.py:72: DataConversionWarning: A column-vector y was passed when a 1d array was expected. Please change the shape of y to (n_samples, ), for example using ravel().\n",
      "  return f(**kwargs)\n",
      "[Parallel(n_jobs=-1)]: Using backend LokyBackend with 12 concurrent workers.\n",
      "[Parallel(n_jobs=-1)]: Done  28 tasks      | elapsed:    0.0s\n"
     ]
    },
    {
     "name": "stdout",
     "output_type": "stream",
     "text": [
      "Grid best parameters for accuracy: {'C': 0.4, 'class_weight': {1: 1}, 'penalty': 'l2'} scoring: 0.815\n",
      "Fitting 10 folds for each of 42 candidates, totalling 420 fits\n",
      "Grid best parameters for roc_auc: {'C': 0.4, 'class_weight': {1: 4}, 'penalty': 'l2'} scoring: 0.881\n"
     ]
    },
    {
     "name": "stderr",
     "output_type": "stream",
     "text": [
      "[Parallel(n_jobs=-1)]: Done 420 out of 420 | elapsed:    0.2s finished\n",
      "C:\\Users\\Francisco-Martin.NAV\\Anaconda3\\lib\\site-packages\\sklearn\\utils\\validation.py:72: DataConversionWarning: A column-vector y was passed when a 1d array was expected. Please change the shape of y to (n_samples, ), for example using ravel().\n",
      "  return f(**kwargs)\n"
     ]
    }
   ],
   "source": [
    "from sklearn.linear_model import LogisticRegression\n",
    "\n",
    "model = LogisticRegression()\n",
    "\n",
    "## Define the hyperparametes\n",
    "param_grid = {'penalty' : ['l1', 'l2'],  ## These are two different ways of doing regularization, l1 is lasso regression and l2 ridge regression\n",
    "     'C' : [0.1, 0.2, 0.4, 0.7, 1, 10, 100], ##  C is the inverse of the regularization\n",
    "     'class_weight':[{1: w} for w in [1, 2, 4]]}  ## Weight of class 1  \n",
    "\n",
    "## We perform a cross validation with 10 folds using both accuracy and roc_auc with a DecisionTreeClassifier\n",
    "scoring_result_model, best_models_model = model_score(X_train, y_train, model, param_grid, scorers_list, 10)\n",
    "\n",
    "## We save this information in our dictionaries\n",
    "dict_score_results[model.__class__.__name__] = scoring_result_model\n",
    "dict_best_models[model.__class__.__name__] = best_models_model"
   ]
  },
  {
   "cell_type": "markdown",
   "metadata": {},
   "source": [
    "## XGBoost"
   ]
  },
  {
   "cell_type": "code",
   "execution_count": 54,
   "metadata": {},
   "outputs": [
    {
     "name": "stdout",
     "output_type": "stream",
     "text": [
      "Fitting 10 folds for each of 486 candidates, totalling 4860 fits\n"
     ]
    },
    {
     "name": "stderr",
     "output_type": "stream",
     "text": [
      "[Parallel(n_jobs=-1)]: Using backend LokyBackend with 12 concurrent workers.\n",
      "[Parallel(n_jobs=-1)]: Done  26 tasks      | elapsed:    1.6s\n",
      "[Parallel(n_jobs=-1)]: Done 440 tasks      | elapsed:    5.2s\n",
      "[Parallel(n_jobs=-1)]: Done 1440 tasks      | elapsed:   14.2s\n",
      "[Parallel(n_jobs=-1)]: Done 2840 tasks      | elapsed:   29.1s\n",
      "[Parallel(n_jobs=-1)]: Done 4640 tasks      | elapsed:   50.5s\n",
      "[Parallel(n_jobs=-1)]: Done 4860 out of 4860 | elapsed:   53.8s finished\n",
      "C:\\Users\\Francisco-Martin.NAV\\Anaconda3\\lib\\site-packages\\xgboost\\sklearn.py:888: UserWarning: The use of label encoder in XGBClassifier is deprecated and will be removed in a future release. To remove this warning, do the following: 1) Pass option use_label_encoder=False when constructing XGBClassifier object; and 2) Encode your labels (y) as integers starting with 0, i.e. 0, 1, 2, ..., [num_class - 1].\n",
      "  warnings.warn(label_encoder_deprecation_msg, UserWarning)\n",
      "C:\\Users\\Francisco-Martin.NAV\\Anaconda3\\lib\\site-packages\\sklearn\\utils\\validation.py:72: DataConversionWarning: A column-vector y was passed when a 1d array was expected. Please change the shape of y to (n_samples, ), for example using ravel().\n",
      "  return f(**kwargs)\n",
      "[Parallel(n_jobs=-1)]: Using backend LokyBackend with 12 concurrent workers.\n"
     ]
    },
    {
     "name": "stdout",
     "output_type": "stream",
     "text": [
      "Grid best parameters for accuracy: {'colsample_bytree': 0.6, 'learning_rate': 0.01, 'max_depth': 5, 'min_child_weight': 1, 'n_estimators': 100, 'objective': 'reg:logistic', 'subsample': 0.6} scoring: 0.833\n",
      "Fitting 10 folds for each of 486 candidates, totalling 4860 fits\n"
     ]
    },
    {
     "name": "stderr",
     "output_type": "stream",
     "text": [
      "[Parallel(n_jobs=-1)]: Done  28 tasks      | elapsed:    0.3s\n",
      "[Parallel(n_jobs=-1)]: Done 584 tasks      | elapsed:    7.2s\n",
      "[Parallel(n_jobs=-1)]: Done 1584 tasks      | elapsed:   19.1s\n",
      "[Parallel(n_jobs=-1)]: Done 2984 tasks      | elapsed:   35.8s\n",
      "[Parallel(n_jobs=-1)]: Done 4784 tasks      | elapsed:   58.8s\n"
     ]
    },
    {
     "name": "stdout",
     "output_type": "stream",
     "text": [
      "Grid best parameters for roc_auc: {'colsample_bytree': 0.6, 'learning_rate': 0.05, 'max_depth': 3, 'min_child_weight': 10, 'n_estimators': 50, 'objective': 'reg:logistic', 'subsample': 1.0} scoring: 0.884\n"
     ]
    },
    {
     "name": "stderr",
     "output_type": "stream",
     "text": [
      "[Parallel(n_jobs=-1)]: Done 4860 out of 4860 | elapsed:   59.7s finished\n",
      "C:\\Users\\Francisco-Martin.NAV\\Anaconda3\\lib\\site-packages\\xgboost\\sklearn.py:888: UserWarning: The use of label encoder in XGBClassifier is deprecated and will be removed in a future release. To remove this warning, do the following: 1) Pass option use_label_encoder=False when constructing XGBClassifier object; and 2) Encode your labels (y) as integers starting with 0, i.e. 0, 1, 2, ..., [num_class - 1].\n",
      "  warnings.warn(label_encoder_deprecation_msg, UserWarning)\n",
      "C:\\Users\\Francisco-Martin.NAV\\Anaconda3\\lib\\site-packages\\sklearn\\utils\\validation.py:72: DataConversionWarning: A column-vector y was passed when a 1d array was expected. Please change the shape of y to (n_samples, ), for example using ravel().\n",
      "  return f(**kwargs)\n"
     ]
    }
   ],
   "source": [
    "import xgboost as xgb\n",
    "\n",
    "model=xgb.XGBClassifier(seed=1)\n",
    "\n",
    "## We define the hiperparameters\n",
    "param_grid = { \n",
    "        'n_estimators' : [50, 100], ## Number of decisionTrees\n",
    "        'min_child_weight': [1, 5, 10], ## minimum weight reauired to create a new node, the smaller the more complex the trees\n",
    "        'subsample': [0.6, 0.8, 1.0], ## Denotes the fraction of observations to be randomly samples for each tree\n",
    "        'colsample_bytree': [0.6, 0.8, 1.0], ## Percentage of samples used by the tree, the smaller the more the regularization\n",
    "        'max_depth': [1, 3, 5], #the maximum number of nodes allowed from the root to the farthest leaf of a tree. \n",
    "        'learning_rate': [0.1, 0.01, 0.05],  ## Learning rate. How fast the model fits the residual error. The lower this the \n",
    "    ## larger the n_estimators\n",
    "        'objective': ['reg:logistic'] ## Using binary here does not make sense\n",
    "        }\n",
    "\n",
    "## We perform a cross validation with 10 folds using both accuracy and roc_auc with a XGBClassifier\n",
    "scoring_result_model, best_models_model = model_score(X_train, y_train, model, param_grid, scorers_list, 10)\n",
    "\n",
    "## We save this information in our dictionaries\n",
    "dict_score_results[model.__class__.__name__] = scoring_result_model\n",
    "dict_best_models[model.__class__.__name__] = best_models_model"
   ]
  },
  {
   "cell_type": "markdown",
   "metadata": {},
   "source": [
    "## SVM"
   ]
  },
  {
   "cell_type": "code",
   "execution_count": 55,
   "metadata": {},
   "outputs": [
    {
     "name": "stdout",
     "output_type": "stream",
     "text": [
      "Fitting 10 folds for each of 40 candidates, totalling 400 fits\n"
     ]
    },
    {
     "name": "stderr",
     "output_type": "stream",
     "text": [
      "[Parallel(n_jobs=-1)]: Using backend LokyBackend with 12 concurrent workers.\n",
      "[Parallel(n_jobs=-1)]: Done  28 tasks      | elapsed:    0.0s\n",
      "[Parallel(n_jobs=-1)]: Done 400 out of 400 | elapsed:    1.3s finished\n",
      "C:\\Users\\Francisco-Martin.NAV\\Anaconda3\\lib\\site-packages\\sklearn\\utils\\validation.py:72: DataConversionWarning: A column-vector y was passed when a 1d array was expected. Please change the shape of y to (n_samples, ), for example using ravel().\n",
      "  return f(**kwargs)\n",
      "[Parallel(n_jobs=-1)]: Using backend LokyBackend with 12 concurrent workers.\n",
      "[Parallel(n_jobs=-1)]: Done  28 tasks      | elapsed:    0.0s\n"
     ]
    },
    {
     "name": "stdout",
     "output_type": "stream",
     "text": [
      "Grid best parameters for accuracy: {'C': 1, 'gamma': 0.5, 'kernel': 'rbf'} scoring: 0.817\n",
      "Fitting 10 folds for each of 40 candidates, totalling 400 fits\n",
      "Grid best parameters for roc_auc: {'C': 0.1, 'gamma': 0.5, 'kernel': 'linear'} scoring: 0.871\n"
     ]
    },
    {
     "name": "stderr",
     "output_type": "stream",
     "text": [
      "[Parallel(n_jobs=-1)]: Done 400 out of 400 | elapsed:    1.3s finished\n",
      "C:\\Users\\Francisco-Martin.NAV\\Anaconda3\\lib\\site-packages\\sklearn\\utils\\validation.py:72: DataConversionWarning: A column-vector y was passed when a 1d array was expected. Please change the shape of y to (n_samples, ), for example using ravel().\n",
      "  return f(**kwargs)\n"
     ]
    }
   ],
   "source": [
    "from sklearn.svm import SVC\n",
    "\n",
    "model = SVC(random_state=1)\n",
    "\n",
    "param_grid = {'C': [0.1, 0.5, 1, 10, 100],  ## This is again the inverse of the regularization \n",
    "              'gamma': [0.5, 0.7, 0.9, 1], ## It controls the smoothness of the decision boundary, the lower the more smooth\n",
    "              'kernel': ['rbf', 'linear']}  ## Let's try linear and non-linear kernels\n",
    "\n",
    "## We perform a cross validation with 10 folds using both accuracy and roc_auc with a SVC\n",
    "scoring_result_model, best_models_model = model_score(X_train, y_train, model, param_grid, scorers_list, 10)\n",
    "\n",
    "## We save this information in our dictionaries\n",
    "dict_score_results[model.__class__.__name__] = scoring_result_model\n",
    "dict_best_models[model.__class__.__name__] = best_models_model"
   ]
  },
  {
   "cell_type": "markdown",
   "metadata": {},
   "source": [
    "## Bagging Classifier"
   ]
  },
  {
   "cell_type": "code",
   "execution_count": 56,
   "metadata": {},
   "outputs": [
    {
     "name": "stdout",
     "output_type": "stream",
     "text": [
      "Fitting 10 folds for each of 2916 candidates, totalling 29160 fits\n"
     ]
    },
    {
     "name": "stderr",
     "output_type": "stream",
     "text": [
      "[Parallel(n_jobs=-1)]: Using backend LokyBackend with 12 concurrent workers.\n",
      "[Parallel(n_jobs=-1)]: Done  28 tasks      | elapsed:    0.5s\n",
      "[Parallel(n_jobs=-1)]: Done 328 tasks      | elapsed:    5.8s\n",
      "[Parallel(n_jobs=-1)]: Done 828 tasks      | elapsed:   14.6s\n",
      "[Parallel(n_jobs=-1)]: Done 1528 tasks      | elapsed:   27.6s\n",
      "[Parallel(n_jobs=-1)]: Done 2428 tasks      | elapsed:   46.4s\n",
      "[Parallel(n_jobs=-1)]: Done 3528 tasks      | elapsed:  1.2min\n",
      "[Parallel(n_jobs=-1)]: Done 4828 tasks      | elapsed:  1.6min\n",
      "[Parallel(n_jobs=-1)]: Done 6328 tasks      | elapsed:  2.1min\n",
      "[Parallel(n_jobs=-1)]: Done 8028 tasks      | elapsed:  2.7min\n",
      "[Parallel(n_jobs=-1)]: Done 9928 tasks      | elapsed:  3.4min\n",
      "[Parallel(n_jobs=-1)]: Done 12028 tasks      | elapsed:  4.1min\n",
      "[Parallel(n_jobs=-1)]: Done 14328 tasks      | elapsed:  4.9min\n",
      "[Parallel(n_jobs=-1)]: Done 16828 tasks      | elapsed:  5.8min\n",
      "[Parallel(n_jobs=-1)]: Done 19528 tasks      | elapsed:  6.7min\n",
      "[Parallel(n_jobs=-1)]: Done 22428 tasks      | elapsed:  7.8min\n",
      "[Parallel(n_jobs=-1)]: Done 25528 tasks      | elapsed:  8.9min\n",
      "[Parallel(n_jobs=-1)]: Done 28828 tasks      | elapsed: 10.1min\n",
      "[Parallel(n_jobs=-1)]: Done 29160 out of 29160 | elapsed: 10.2min finished\n",
      "C:\\Users\\Francisco-Martin.NAV\\Anaconda3\\lib\\site-packages\\sklearn\\utils\\validation.py:72: DataConversionWarning: A column-vector y was passed when a 1d array was expected. Please change the shape of y to (n_samples, ), for example using ravel().\n",
      "  return f(**kwargs)\n"
     ]
    },
    {
     "name": "stdout",
     "output_type": "stream",
     "text": [
      "Grid best parameters for accuracy: {'base_estimator__max_depth': 10, 'base_estimator__max_features': 'auto', 'base_estimator__min_samples_leaf': 3, 'base_estimator__min_samples_split': 2, 'bootstrap_features': True, 'max_features': 0.8, 'max_samples': 0.8, 'n_estimators': 100} scoring: 0.842\n",
      "Fitting 10 folds for each of 2916 candidates, totalling 29160 fits\n"
     ]
    },
    {
     "name": "stderr",
     "output_type": "stream",
     "text": [
      "[Parallel(n_jobs=-1)]: Using backend LokyBackend with 12 concurrent workers.\n",
      "[Parallel(n_jobs=-1)]: Done  28 tasks      | elapsed:    0.7s\n",
      "[Parallel(n_jobs=-1)]: Done 328 tasks      | elapsed:    7.3s\n",
      "[Parallel(n_jobs=-1)]: Done 828 tasks      | elapsed:   18.2s\n",
      "[Parallel(n_jobs=-1)]: Done 1528 tasks      | elapsed:   33.5s\n",
      "[Parallel(n_jobs=-1)]: Done 2428 tasks      | elapsed:   54.1s\n",
      "[Parallel(n_jobs=-1)]: Done 3528 tasks      | elapsed:  1.3min\n",
      "[Parallel(n_jobs=-1)]: Done 4828 tasks      | elapsed:  1.8min\n",
      "[Parallel(n_jobs=-1)]: Done 6328 tasks      | elapsed:  2.3min\n",
      "[Parallel(n_jobs=-1)]: Done 8028 tasks      | elapsed:  2.9min\n",
      "[Parallel(n_jobs=-1)]: Done 9928 tasks      | elapsed:  3.5min\n",
      "[Parallel(n_jobs=-1)]: Done 12028 tasks      | elapsed:  4.3min\n",
      "[Parallel(n_jobs=-1)]: Done 14328 tasks      | elapsed:  5.1min\n",
      "[Parallel(n_jobs=-1)]: Done 16828 tasks      | elapsed:  6.0min\n",
      "[Parallel(n_jobs=-1)]: Done 19528 tasks      | elapsed:  7.0min\n",
      "[Parallel(n_jobs=-1)]: Done 22428 tasks      | elapsed:  8.0min\n",
      "[Parallel(n_jobs=-1)]: Done 25528 tasks      | elapsed:  9.2min\n",
      "[Parallel(n_jobs=-1)]: Done 28828 tasks      | elapsed: 10.4min\n"
     ]
    },
    {
     "name": "stdout",
     "output_type": "stream",
     "text": [
      "Grid best parameters for roc_auc: {'base_estimator__max_depth': 3, 'base_estimator__max_features': 'sqrt', 'base_estimator__min_samples_leaf': 3, 'base_estimator__min_samples_split': 5, 'bootstrap_features': True, 'max_features': 0.6, 'max_samples': 0.6, 'n_estimators': 50} scoring: 0.886\n"
     ]
    },
    {
     "name": "stderr",
     "output_type": "stream",
     "text": [
      "[Parallel(n_jobs=-1)]: Done 29160 out of 29160 | elapsed: 10.5min finished\n",
      "C:\\Users\\Francisco-Martin.NAV\\Anaconda3\\lib\\site-packages\\sklearn\\utils\\validation.py:72: DataConversionWarning: A column-vector y was passed when a 1d array was expected. Please change the shape of y to (n_samples, ), for example using ravel().\n",
      "  return f(**kwargs)\n"
     ]
    }
   ],
   "source": [
    "from sklearn.tree import DecisionTreeClassifier\n",
    "from sklearn.ensemble import BaggingClassifier\n",
    "\n",
    "model = BaggingClassifier(DecisionTreeClassifier(random_state=1))\n",
    "\n",
    "param_grid ={\"base_estimator__max_depth\": [3,5,10], ## Max depth of the tree\n",
    "             \"base_estimator__max_features\": ['auto', 'sqrt', 'log2'],  ## The number of features to consider when looking for the best split, log2(n_features) or sqrt(n_features)\n",
    "             \"base_estimator__min_samples_leaf\": [1, 3, 5], ## Minimum number of samples to do a split\n",
    "             \"base_estimator__min_samples_split\": [2, 5, 7], ## Minimum number of samples in a final node\n",
    "             'bootstrap_features': [False, True], ## Whether features are drawn with replacement.\n",
    "             'max_features': [0.6, 0.8, 1.0], # The number of features to draw from X to train each base estimator\n",
    "             'max_samples': [0.6, 0.8, 1.0], # The number of samples to draw from X to train each base estimator\n",
    "             'n_estimators': [50, 100], # The number of decision trees \n",
    "}\n",
    "\n",
    "## We perform a cross validation with 10 folds using both accuracy and roc_auc with a DecisionTreeClassifier\n",
    "scoring_result_model, best_models_model = model_score(X_train, y_train, model, param_grid, scorers_list, 10)\n",
    "\n",
    "## We save this information in our dictionaries\n",
    "dict_score_results[model.__class__.__name__] = scoring_result_model\n",
    "dict_best_models[model.__class__.__name__] = best_models_model"
   ]
  },
  {
   "cell_type": "markdown",
   "metadata": {},
   "source": [
    "## AdaBoost Classifer"
   ]
  },
  {
   "cell_type": "code",
   "execution_count": 57,
   "metadata": {},
   "outputs": [
    {
     "name": "stdout",
     "output_type": "stream",
     "text": [
      "Fitting 10 folds for each of 486 candidates, totalling 4860 fits\n"
     ]
    },
    {
     "name": "stderr",
     "output_type": "stream",
     "text": [
      "[Parallel(n_jobs=-1)]: Using backend LokyBackend with 12 concurrent workers.\n",
      "[Parallel(n_jobs=-1)]: Done  28 tasks      | elapsed:    0.6s\n",
      "[Parallel(n_jobs=-1)]: Done 328 tasks      | elapsed:    6.2s\n",
      "[Parallel(n_jobs=-1)]: Done 828 tasks      | elapsed:   15.8s\n",
      "[Parallel(n_jobs=-1)]: Done 1528 tasks      | elapsed:   29.4s\n",
      "[Parallel(n_jobs=-1)]: Done 2428 tasks      | elapsed:   50.8s\n",
      "[Parallel(n_jobs=-1)]: Done 3528 tasks      | elapsed:  1.2min\n",
      "[Parallel(n_jobs=-1)]: Done 4837 out of 4860 | elapsed:  1.7min remaining:    0.4s\n",
      "[Parallel(n_jobs=-1)]: Done 4860 out of 4860 | elapsed:  1.7min finished\n",
      "C:\\Users\\Francisco-Martin.NAV\\Anaconda3\\lib\\site-packages\\sklearn\\utils\\validation.py:72: DataConversionWarning: A column-vector y was passed when a 1d array was expected. Please change the shape of y to (n_samples, ), for example using ravel().\n",
      "  return f(**kwargs)\n",
      "[Parallel(n_jobs=-1)]: Using backend LokyBackend with 12 concurrent workers.\n"
     ]
    },
    {
     "name": "stdout",
     "output_type": "stream",
     "text": [
      "Grid best parameters for accuracy: {'base_estimator__max_depth': 5, 'base_estimator__max_features': 'auto', 'base_estimator__min_samples_leaf': 3, 'base_estimator__min_samples_split': 7, 'learning_rate': 0.01, 'n_estimators': 100} scoring: 0.834\n",
      "Fitting 10 folds for each of 486 candidates, totalling 4860 fits\n"
     ]
    },
    {
     "name": "stderr",
     "output_type": "stream",
     "text": [
      "[Parallel(n_jobs=-1)]: Done  28 tasks      | elapsed:    0.6s\n",
      "[Parallel(n_jobs=-1)]: Done 328 tasks      | elapsed:    6.6s\n",
      "[Parallel(n_jobs=-1)]: Done 828 tasks      | elapsed:   16.4s\n",
      "[Parallel(n_jobs=-1)]: Done 1528 tasks      | elapsed:   30.6s\n",
      "[Parallel(n_jobs=-1)]: Done 2428 tasks      | elapsed:   53.8s\n",
      "[Parallel(n_jobs=-1)]: Done 3528 tasks      | elapsed:  1.3min\n",
      "[Parallel(n_jobs=-1)]: Done 4837 out of 4860 | elapsed:  1.8min remaining:    0.4s\n"
     ]
    },
    {
     "name": "stdout",
     "output_type": "stream",
     "text": [
      "Grid best parameters for roc_auc: {'base_estimator__max_depth': 3, 'base_estimator__max_features': 'log2', 'base_estimator__min_samples_leaf': 3, 'base_estimator__min_samples_split': 5, 'learning_rate': 0.01, 'n_estimators': 50} scoring: 0.876\n"
     ]
    },
    {
     "name": "stderr",
     "output_type": "stream",
     "text": [
      "[Parallel(n_jobs=-1)]: Done 4860 out of 4860 | elapsed:  1.8min finished\n",
      "C:\\Users\\Francisco-Martin.NAV\\Anaconda3\\lib\\site-packages\\sklearn\\utils\\validation.py:72: DataConversionWarning: A column-vector y was passed when a 1d array was expected. Please change the shape of y to (n_samples, ), for example using ravel().\n",
      "  return f(**kwargs)\n"
     ]
    }
   ],
   "source": [
    "from sklearn.tree import DecisionTreeClassifier\n",
    "from sklearn.ensemble import AdaBoostClassifier\n",
    "\n",
    "model = AdaBoostClassifier(base_estimator=DecisionTreeClassifier(random_state=1))\n",
    "\n",
    "## We define the hiperparameters\n",
    "param_grid = {\n",
    "        \"base_estimator__max_depth\": [3,5,10], ## Max depth of the tree\n",
    "        \"base_estimator__max_features\": ['auto', 'sqrt', 'log2'],  ## The number of features to consider when looking for the best split, log2(n_features) or sqrt(n_features)\n",
    "        \"base_estimator__min_samples_leaf\": [1, 3, 5], ## Minimum number of samples to do a split\n",
    "        \"base_estimator__min_samples_split\": [2, 5, 7], ## Minimum number of samples in a final node\n",
    "        'n_estimators' : [50, 100], ## Number of decisionTrees\n",
    "        'learning_rate': [0.1, 0.01, 0.05]  ## Learning rate. How fast the model fits the residual error. The lower this the \n",
    "    ## larger the n_estimators\n",
    "        }\n",
    "\n",
    "\n",
    "## We perform a cross validation with 10 folds using both accuracy and roc_auc with a DecisionTreeClassifier\n",
    "scoring_result_model, best_models_model = model_score(X_train, y_train, model, param_grid, scorers_list, 10)\n",
    "\n",
    "## We save this information in our dictionaries\n",
    "dict_score_results[model.__class__.__name__] = scoring_result_model\n",
    "dict_best_models[model.__class__.__name__] = best_models_model\n"
   ]
  },
  {
   "cell_type": "markdown",
   "metadata": {},
   "source": [
    "Let's put together all the scores and the different models:"
   ]
  },
  {
   "cell_type": "markdown",
   "metadata": {},
   "source": [
    "### Best score for each model with gridsearch"
   ]
  },
  {
   "cell_type": "code",
   "execution_count": 58,
   "metadata": {},
   "outputs": [
    {
     "data": {
      "text/html": [
       "<div>\n",
       "<style scoped>\n",
       "    .dataframe tbody tr th:only-of-type {\n",
       "        vertical-align: middle;\n",
       "    }\n",
       "\n",
       "    .dataframe tbody tr th {\n",
       "        vertical-align: top;\n",
       "    }\n",
       "\n",
       "    .dataframe thead th {\n",
       "        text-align: right;\n",
       "    }\n",
       "</style>\n",
       "<table border=\"1\" class=\"dataframe\">\n",
       "  <thead>\n",
       "    <tr style=\"text-align: right;\">\n",
       "      <th></th>\n",
       "      <th>DecisionTreeClassifier</th>\n",
       "      <th>RandomForestClassifier</th>\n",
       "      <th>KNeighborsClassifier</th>\n",
       "      <th>LogisticRegression</th>\n",
       "      <th>XGBClassifier</th>\n",
       "      <th>SVC</th>\n",
       "      <th>BaggingClassifier</th>\n",
       "      <th>AdaBoostClassifier</th>\n",
       "    </tr>\n",
       "  </thead>\n",
       "  <tbody>\n",
       "    <tr>\n",
       "      <th>accuracy</th>\n",
       "      <td>0.823093</td>\n",
       "      <td>0.832591</td>\n",
       "      <td>0.819892</td>\n",
       "      <td>0.815131</td>\n",
       "      <td>0.832540</td>\n",
       "      <td>0.816667</td>\n",
       "      <td>0.842166</td>\n",
       "      <td>0.834153</td>\n",
       "    </tr>\n",
       "    <tr>\n",
       "      <th>roc_auc</th>\n",
       "      <td>0.868644</td>\n",
       "      <td>0.881093</td>\n",
       "      <td>0.881607</td>\n",
       "      <td>0.881181</td>\n",
       "      <td>0.884444</td>\n",
       "      <td>0.870556</td>\n",
       "      <td>0.886409</td>\n",
       "      <td>0.876035</td>\n",
       "    </tr>\n",
       "  </tbody>\n",
       "</table>\n",
       "</div>"
      ],
      "text/plain": [
       "          DecisionTreeClassifier  RandomForestClassifier  \\\n",
       "accuracy                0.823093                0.832591   \n",
       "roc_auc                 0.868644                0.881093   \n",
       "\n",
       "          KNeighborsClassifier  LogisticRegression  XGBClassifier       SVC  \\\n",
       "accuracy              0.819892            0.815131       0.832540  0.816667   \n",
       "roc_auc               0.881607            0.881181       0.884444  0.870556   \n",
       "\n",
       "          BaggingClassifier  AdaBoostClassifier  \n",
       "accuracy           0.842166            0.834153  \n",
       "roc_auc            0.886409            0.876035  "
      ]
     },
     "execution_count": 58,
     "metadata": {},
     "output_type": "execute_result"
    }
   ],
   "source": [
    "pd.DataFrame(dict_score_results)"
   ]
  },
  {
   "cell_type": "markdown",
   "metadata": {},
   "source": [
    "It seems that BaggingClassifier gives the best result."
   ]
  },
  {
   "cell_type": "markdown",
   "metadata": {},
   "source": [
    "Once we have the best estimator for each of the models together with their corresponding score in the training set, let's check \n",
    "how these estimators perform with the test data. "
   ]
  },
  {
   "cell_type": "markdown",
   "metadata": {},
   "source": [
    "### Score in test data with cross validation"
   ]
  },
  {
   "cell_type": "markdown",
   "metadata": {},
   "source": [
    "The following dataframe shows the best estimator for each pair scoring and model resulting from the previous gridsearchcv"
   ]
  },
  {
   "cell_type": "code",
   "execution_count": 59,
   "metadata": {},
   "outputs": [
    {
     "data": {
      "text/html": [
       "<div>\n",
       "<style scoped>\n",
       "    .dataframe tbody tr th:only-of-type {\n",
       "        vertical-align: middle;\n",
       "    }\n",
       "\n",
       "    .dataframe tbody tr th {\n",
       "        vertical-align: top;\n",
       "    }\n",
       "\n",
       "    .dataframe thead th {\n",
       "        text-align: right;\n",
       "    }\n",
       "</style>\n",
       "<table border=\"1\" class=\"dataframe\">\n",
       "  <thead>\n",
       "    <tr style=\"text-align: right;\">\n",
       "      <th></th>\n",
       "      <th>DecisionTreeClassifier</th>\n",
       "      <th>RandomForestClassifier</th>\n",
       "      <th>KNeighborsClassifier</th>\n",
       "      <th>LogisticRegression</th>\n",
       "      <th>XGBClassifier</th>\n",
       "      <th>SVC</th>\n",
       "      <th>BaggingClassifier</th>\n",
       "      <th>AdaBoostClassifier</th>\n",
       "    </tr>\n",
       "  </thead>\n",
       "  <tbody>\n",
       "    <tr>\n",
       "      <th>accuracy</th>\n",
       "      <td>DecisionTreeClassifier(max_depth=6, min_sample...</td>\n",
       "      <td>(DecisionTreeClassifier(max_depth=7, max_featu...</td>\n",
       "      <td>KNeighborsClassifier(metric='manhattan', n_nei...</td>\n",
       "      <td>LogisticRegression(C=0.4, class_weight={1: 1})</td>\n",
       "      <td>XGBClassifier(base_score=0.5, booster='gbtree'...</td>\n",
       "      <td>SVC(C=1, gamma=0.5, random_state=1)</td>\n",
       "      <td>(DecisionTreeClassifier(max_depth=10, max_feat...</td>\n",
       "      <td>(DecisionTreeClassifier(max_depth=5, max_featu...</td>\n",
       "    </tr>\n",
       "    <tr>\n",
       "      <th>roc_auc</th>\n",
       "      <td>DecisionTreeClassifier(criterion='entropy', ma...</td>\n",
       "      <td>(DecisionTreeClassifier(max_depth=4, max_featu...</td>\n",
       "      <td>KNeighborsClassifier(metric='manhattan', n_nei...</td>\n",
       "      <td>LogisticRegression(C=0.4, class_weight={1: 4})</td>\n",
       "      <td>XGBClassifier(base_score=0.5, booster='gbtree'...</td>\n",
       "      <td>SVC(C=0.1, gamma=0.5, kernel='linear', random_...</td>\n",
       "      <td>(DecisionTreeClassifier(max_depth=3, max_featu...</td>\n",
       "      <td>(DecisionTreeClassifier(max_depth=3, max_featu...</td>\n",
       "    </tr>\n",
       "  </tbody>\n",
       "</table>\n",
       "</div>"
      ],
      "text/plain": [
       "                                     DecisionTreeClassifier  \\\n",
       "accuracy  DecisionTreeClassifier(max_depth=6, min_sample...   \n",
       "roc_auc   DecisionTreeClassifier(criterion='entropy', ma...   \n",
       "\n",
       "                                     RandomForestClassifier  \\\n",
       "accuracy  (DecisionTreeClassifier(max_depth=7, max_featu...   \n",
       "roc_auc   (DecisionTreeClassifier(max_depth=4, max_featu...   \n",
       "\n",
       "                                       KNeighborsClassifier  \\\n",
       "accuracy  KNeighborsClassifier(metric='manhattan', n_nei...   \n",
       "roc_auc   KNeighborsClassifier(metric='manhattan', n_nei...   \n",
       "\n",
       "                                      LogisticRegression  \\\n",
       "accuracy  LogisticRegression(C=0.4, class_weight={1: 1})   \n",
       "roc_auc   LogisticRegression(C=0.4, class_weight={1: 4})   \n",
       "\n",
       "                                              XGBClassifier  \\\n",
       "accuracy  XGBClassifier(base_score=0.5, booster='gbtree'...   \n",
       "roc_auc   XGBClassifier(base_score=0.5, booster='gbtree'...   \n",
       "\n",
       "                                                        SVC  \\\n",
       "accuracy                SVC(C=1, gamma=0.5, random_state=1)   \n",
       "roc_auc   SVC(C=0.1, gamma=0.5, kernel='linear', random_...   \n",
       "\n",
       "                                          BaggingClassifier  \\\n",
       "accuracy  (DecisionTreeClassifier(max_depth=10, max_feat...   \n",
       "roc_auc   (DecisionTreeClassifier(max_depth=3, max_featu...   \n",
       "\n",
       "                                         AdaBoostClassifier  \n",
       "accuracy  (DecisionTreeClassifier(max_depth=5, max_featu...  \n",
       "roc_auc   (DecisionTreeClassifier(max_depth=3, max_featu...  "
      ]
     },
     "execution_count": 59,
     "metadata": {},
     "output_type": "execute_result"
    }
   ],
   "source": [
    "models = pd.DataFrame(dict_best_models)\n",
    "# models.loc[['accuracy']].values[0]\n",
    "models.head()"
   ]
  },
  {
   "cell_type": "markdown",
   "metadata": {},
   "source": [
    "Let's define a function that will take the models corresponding to a specific score to perform a cross_val_score with the test \n",
    "data:"
   ]
  },
  {
   "cell_type": "code",
   "execution_count": 60,
   "metadata": {},
   "outputs": [],
   "source": [
    "from sklearn.model_selection import cross_val_score\n",
    "def cv_check(X_test,y_test, models, CV, scoring):\n",
    "    \n",
    "    ## This only takes the best estimators corresponding to scoring\n",
    "    models  = models.loc[[scoring]].values[0]\n",
    "    \n",
    "    entries = []\n",
    "    \n",
    "    for model in models:\n",
    "        model_name = model.__class__.__name__\n",
    "        print (\"Currently fitting: {}\".format(model_name))\n",
    "        results = cross_val_score(model,\n",
    "                                     X_test,\n",
    "                                     y_test, \n",
    "                                     scoring=scoring, cv=CV, n_jobs=-1)\n",
    "        for fold_idx, result in enumerate(results):\n",
    "            entries.append((model_name, fold_idx, result))\n",
    "            \n",
    "        ## We create a dataframe with the fold index in the crossvalidation and the corresponding scoring\n",
    "        cv_df = pd.DataFrame(entries, columns=['model_name', 'fold_idx', scoring])\n",
    "        \n",
    "    return cv_df"
   ]
  },
  {
   "cell_type": "markdown",
   "metadata": {},
   "source": [
    "This second function takes the output of the previous to make a scoring comparative figure between all the models. A boxplot with the scores generated in each fold of the crossvalidation is shown. "
   ]
  },
  {
   "cell_type": "code",
   "execution_count": 61,
   "metadata": {},
   "outputs": [],
   "source": [
    "def cv_bp(cv_df, scoring, axes):\n",
    "    axes.grid(b=True, \n",
    "              which='both', \n",
    "              axis='both', \n",
    "              color='grey', \n",
    "              linestyle = '--', \n",
    "              linewidth = '0.3')    \n",
    "    sns.boxplot(x='model_name', \n",
    "                y=scoring, \n",
    "                data=cv_df, \n",
    "                width = 0.5, \n",
    "                ax=axes).set_title('Test cross validation')\n",
    "    sns.stripplot(x='model_name', \n",
    "                  y=scoring,\n",
    "                  data=cv_df, \n",
    "                  size=5, jitter=True, \n",
    "                  edgecolor=\"grey\", \n",
    "                  linewidth=1, \n",
    "                  ax=axes)\n",
    "    plt.ylim(0.2,1)\n",
    "    #plt.savefig('{}.png'.format(title), format='png')\n",
    "    plt.show()"
   ]
  },
  {
   "cell_type": "code",
   "execution_count": 62,
   "metadata": {},
   "outputs": [
    {
     "name": "stdout",
     "output_type": "stream",
     "text": [
      "Currently fitting: DecisionTreeClassifier\n",
      "Currently fitting: RandomForestClassifier\n",
      "Currently fitting: KNeighborsClassifier\n",
      "Currently fitting: LogisticRegression\n",
      "Currently fitting: XGBClassifier\n",
      "Currently fitting: SVC\n",
      "Currently fitting: BaggingClassifier\n",
      "Currently fitting: AdaBoostClassifier\n"
     ]
    },
    {
     "data": {
      "image/png": "[encoded data removed]",
      "text/plain": [
       "<Figure size 1440x576 with 1 Axes>"
      ]
     },
     "metadata": {
      "needs_background": "light"
     },
     "output_type": "display_data"
    }
   ],
   "source": [
    "f, axes = plt.subplots(1,1,figsize= (20,8),squeeze=False, sharey=True)\n",
    "cv_bp(cv_check(X_test,y_test, models, 10, 'accuracy'), 'accuracy', axes[0,0])"
   ]
  },
  {
   "cell_type": "markdown",
   "metadata": {},
   "source": [
    "  The most stable model with the highest mean accuracy is the LogisticRegression. XGBClassifier is even more stable (standard deviation smaller), but with a lower mean accuracy and a higher complexity compared to LogisticRegression."
   ]
  },
  {
   "cell_type": "markdown",
   "metadata": {},
   "source": [
    "Let's also chechk how the test behaves with roc_auc as score:"
   ]
  },
  {
   "cell_type": "code",
   "execution_count": 63,
   "metadata": {},
   "outputs": [
    {
     "name": "stdout",
     "output_type": "stream",
     "text": [
      "Currently fitting: DecisionTreeClassifier\n",
      "Currently fitting: RandomForestClassifier\n",
      "Currently fitting: KNeighborsClassifier\n",
      "Currently fitting: LogisticRegression\n",
      "Currently fitting: XGBClassifier\n",
      "Currently fitting: SVC\n",
      "Currently fitting: BaggingClassifier\n",
      "Currently fitting: AdaBoostClassifier\n"
     ]
    },
    {
     "data": {
      "image/png": "[encoded data removed]",
      "text/plain": [
       "<Figure size 1440x576 with 1 Axes>"
      ]
     },
     "metadata": {
      "needs_background": "light"
     },
     "output_type": "display_data"
    }
   ],
   "source": [
    "f, axes = plt.subplots(1,1,figsize= (20,8),squeeze=False, sharey=True)\n",
    "cv_bp(cv_check(X_test,y_test, models, 10, 'roc_auc'), 'roc_auc', axes[0,0])"
   ]
  },
  {
   "cell_type": "markdown",
   "metadata": {},
   "source": [
    "Logistic regression gives a really good result, but SVC will have a greater mean roc_auc with a lower standard deviation. "
   ]
  },
  {
   "cell_type": "markdown",
   "metadata": {},
   "source": [
    "## Conclusion\n",
    "\n"
   ]
  },
  {
   "cell_type": "markdown",
   "metadata": {},
   "source": [
    "The best/most stable model regarding accuracy and roc_auc is LogisticRegression.\n",
    "\n",
    "This exercise allowed us to define a clear methodology for choosing the classifier that best performs with a given data. Functions model_score, cv_check and cv_bp could be used in any machine learning project as they can be used with different data, models, pipeline and scoring values."
   ]
  }
 ],
 "metadata": {
  "kernelspec": {
   "display_name": "Python 3",
   "language": "python",
   "name": "python3"
  },
  "language_info": {
   "codemirror_mode": {
    "name": "ipython",
    "version": 3
   },
   "file_extension": ".py",
   "mimetype": "text/x-python",
   "name": "python",
   "nbconvert_exporter": "python",
   "pygments_lexer": "ipython3",
   "version": "3.8.5"
  }
 },
 "nbformat": 4,
 "nbformat_minor": 2
}
